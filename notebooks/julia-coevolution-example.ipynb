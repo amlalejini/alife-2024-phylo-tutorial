{
  "nbformat": 4,
  "nbformat_minor": 0,
  "metadata": {
    "colab": {
      "provenance": []
    },
    "kernelspec": {
      "display_name": "Julia",
      "language": "julia",
      "name": "julia"
    },
    "language_info": {
      "file_extension": ".jl",
      "mimetype": "application/julia",
      "name": "julia"
    },
    "gpuClass": "standard"
  },
  "cells": [
    {
      "cell_type": "markdown",
      "source": [
        "# <img src=\"https://github.com/JuliaLang/julia-logo-graphics/raw/master/images/julia-logo-color.png\" height=\"100\" /> _ALIFE Phylogeny Tutorial Notebook_\n",
        "\n",
        "[Link to original julia notebook template](https://github.com/ageron/julia_notebooks/blob/main/Julia_Colab_Notebook_Template.ipynb)\n",
        "\n"
      ],
      "metadata": {
        "id": "kQUYwptKUB8m"
      }
    },
    {
      "cell_type": "markdown",
      "source": [
        "# Installation"
      ],
      "metadata": {
        "id": "2KjnzLslVmqu"
      }
    },
    {
      "cell_type": "markdown",
      "metadata": {
        "id": "tQ1r1bbb0yBv"
      },
      "source": [
        "## Install Julia\n",
        "1. Work on a copy of this notebook: _File_ > _Save a copy in Drive_ (you will need a Google account). Alternatively, you can download the notebook using _File_ > _Download .ipynb_, then upload it to [Colab](https://colab.research.google.com/).\n",
        "2. If you need a GPU: _Runtime_ > _Change runtime type_ > _Harware accelerator_ = _GPU_.\n",
        "3. Execute the following cell (click on it and press Ctrl+Enter) to install Julia, IJulia and other packages (if needed, update `JULIA_VERSION` and the other parameters). This takes a couple of minutes.\n",
        "4. Reload this page (press Ctrl+R, or ⌘+R, or the F5 key) and continue to the next section.\n",
        "\n",
        "_Notes_:\n",
        "* If your Colab Runtime gets reset (e.g., due to inactivity), repeat steps 2, 3 and 4.\n",
        "* After installation, if you want to change the Julia version or activate/deactivate the GPU, you will need to reset the Runtime: _Runtime_ > _Factory reset runtime_ and repeat steps 3 and 4."
      ]
    },
    {
      "cell_type": "code",
      "metadata": {
        "id": "GIeFXS0F0zww",
        "colab": {
          "base_uri": "https://localhost:8080/"
        },
        "outputId": "9cfca854-a733-4a4a-e6a3-fb16cecde9d0"
      },
      "source": [
        "%%shell\n",
        "set -e\n",
        "\n",
        "#---------------------------------------------------#\n",
        "JULIA_VERSION=\"1.10.4\" # any version ≥ 0.7.0\n",
        "JULIA_PACKAGES=\"IJulia\"\n",
        "JULIA_PACKAGES_IF_GPU=\"CUDA\" # or CuArrays for older Julia versions\n",
        "JULIA_NUM_THREADS=8\n",
        "#---------------------------------------------------#\n",
        "\n",
        "if [ -z `which julia` ]; then\n",
        "  # Install Julia\n",
        "  JULIA_VER=`cut -d '.' -f -2 <<< \"$JULIA_VERSION\"`\n",
        "  echo \"Installing Julia $JULIA_VERSION on the current Colab Runtime...\"\n",
        "  BASE_URL=\"https://julialang-s3.julialang.org/bin/linux/x64\"\n",
        "  URL=\"$BASE_URL/$JULIA_VER/julia-$JULIA_VERSION-linux-x86_64.tar.gz\"\n",
        "  wget -nv $URL -O /tmp/julia.tar.gz # -nv means \"not verbose\"\n",
        "  tar -x -f /tmp/julia.tar.gz -C /usr/local --strip-components 1\n",
        "  rm /tmp/julia.tar.gz\n",
        "\n",
        "  # Install Packages\n",
        "  nvidia-smi -L &> /dev/null && export GPU=1 || export GPU=0\n",
        "  if [ $GPU -eq 1 ]; then\n",
        "    JULIA_PACKAGES=\"$JULIA_PACKAGES $JULIA_PACKAGES_IF_GPU\"\n",
        "  fi\n",
        "  for PKG in `echo $JULIA_PACKAGES`; do\n",
        "    echo \"Installing Julia package $PKG...\"\n",
        "    julia -e 'using Pkg; pkg\"add '$PKG'; precompile;\"' &> /dev/null\n",
        "  done\n",
        "\n",
        "  # Install kernel and rename it to \"julia\"\n",
        "  echo \"Installing IJulia kernel...\"\n",
        "  julia -e 'using IJulia; IJulia.installkernel(\"julia\", env=Dict(\n",
        "      \"JULIA_NUM_THREADS\"=>\"'\"$JULIA_NUM_THREADS\"'\"))'\n",
        "  KERNEL_DIR=`julia -e \"using IJulia; print(IJulia.kerneldir())\"`\n",
        "  KERNEL_NAME=`ls -d \"$KERNEL_DIR\"/julia*`\n",
        "  mv -f $KERNEL_NAME \"$KERNEL_DIR\"/julia\n",
        "\n",
        "  echo ''\n",
        "  echo \"Successfully installed `julia -v`!\"\n",
        "  echo \"Please reload this page (press Ctrl+R, ⌘+R, or the F5 key) then\"\n",
        "  echo \"jump to the 'Checking the Installation' section.\"\n",
        "fi"
      ],
      "execution_count": null,
      "outputs": [
        {
          "output_type": "stream",
          "name": "stdout",
          "text": [
            "Installing Julia 1.10.4 on the current Colab Runtime...\n",
            "2024-07-03 14:50:02 URL:https://julialang-s3.julialang.org/bin/linux/x64/1.10/julia-1.10.4-linux-x86_64.tar.gz [173704015/173704015] -> \"/tmp/julia.tar.gz\" [1]\n",
            "Installing Julia package IJulia...\n",
            "Installing IJulia kernel...\n",
            "\u001b[36m\u001b[1m[ \u001b[22m\u001b[39m\u001b[36m\u001b[1mInfo: \u001b[22m\u001b[39mInstalling julia kernelspec in /root/.local/share/jupyter/kernels/julia-1.10\n",
            "\n",
            "Successfully installed julia version 1.10.4!\n",
            "Please reload this page (press Ctrl+R, ⌘+R, or the F5 key) then\n",
            "jump to the 'Checking the Installation' section.\n"
          ]
        },
        {
          "output_type": "execute_result",
          "data": {
            "text/plain": []
          },
          "metadata": {},
          "execution_count": 1
        }
      ]
    },
    {
      "cell_type": "markdown",
      "metadata": {
        "id": "-OS3Ac017T1i"
      },
      "source": [
        "## Checking the Installation\n",
        "The `versioninfo()` function should print your Julia version and some other info about the system:"
      ]
    },
    {
      "cell_type": "code",
      "metadata": {
        "id": "EEzvvzCl1i0F",
        "colab": {
          "base_uri": "https://localhost:8080/"
        },
        "outputId": "a81c6513-afd6-4633-a743-9ab7f90b89bc"
      },
      "source": [
        "versioninfo()"
      ],
      "execution_count": null,
      "outputs": [
        {
          "output_type": "stream",
          "name": "stdout",
          "text": [
            "Julia Version 1.10.4\n",
            "Commit 48d4fd48430 (2024-06-04 10:41 UTC)\n",
            "Build Info:\n",
            "  Official https://julialang.org/ release\n",
            "Platform Info:\n",
            "  OS: Linux (x86_64-linux-gnu)\n",
            "  CPU: 2 × Intel(R) Xeon(R) CPU @ 2.20GHz\n",
            "  WORD_SIZE: 64\n",
            "  LIBM: libopenlibm\n",
            "  LLVM: libLLVM-15.0.7 (ORCJIT, broadwell)\n",
            "Threads: 8 default, 0 interactive, 2 GC (on 2 virtual cores)\n",
            "Environment:\n",
            "  LD_LIBRARY_PATH = /usr/local/nvidia/lib:/usr/local/nvidia/lib64\n",
            "  JULIA_NUM_THREADS = 8\n"
          ]
        }
      ]
    },
    {
      "cell_type": "markdown",
      "source": [
        "## Install Jevo.jl and Dependencies\n",
        "\n",
        "Run the following cell to install the `phylo-tutorial` branch of [Jevo.jl](https://www.github.com/jarbus/Jevo.jl) and its dependencies. This branch has all of the neuro-evolution code stripped out to install faster.\n",
        "\n",
        "[Jevo.jl](https://www.github.com/jarbus/Jevo.jl) is currently in alpha, development docs can be found [here](https://jarbus.github.io/Jevo.jl/dev)\n",
        "\n",
        "This cell should take ~10 minutes on Google Collab."
      ],
      "metadata": {
        "id": "Q3okcicGI9Q5"
      }
    },
    {
      "cell_type": "code",
      "source": [
        "]add https://github.com/jarbus/XPlot.jl.git https://github.com/jarbus/PhylogeneticTrees.jl.git https://github.com/jarbus/Jevo.jl.git#phylo-tutorial StableRNGs Logging"
      ],
      "metadata": {
        "colab": {
          "base_uri": "https://localhost:8080/"
        },
        "id": "i5VKx1VJ3J67",
        "outputId": "91e92bd5-d645-40c0-f7b4-c989081954ca"
      },
      "execution_count": null,
      "outputs": [
        {
          "output_type": "stream",
          "name": "stderr",
          "text": [
            "\u001b[32m\u001b[1m    Updating\u001b[22m\u001b[39m git-repo `https://github.com/jarbus/XPlot.jl.git`\n",
            "\u001b[32m\u001b[1m    Updating\u001b[22m\u001b[39m git-repo `https://github.com/jarbus/PhylogeneticTrees.jl.git`\n",
            "\u001b[32m\u001b[1m    Updating\u001b[22m\u001b[39m git-repo `https://github.com/jarbus/Jevo.jl.git`\n",
            "\u001b[32m\u001b[1m   Resolving\u001b[22m\u001b[39m package versions...\n",
            "\u001b[32m\u001b[1m    Updating\u001b[22m\u001b[39m `~/.julia/environments/v1.10/Project.toml`\n",
            "  \u001b[90m[860ef19b] \u001b[39m\u001b[92m+ StableRNGs v1.0.2\u001b[39m\n",
            "  \u001b[90m[56ddb016] \u001b[39m\u001b[92m+ Logging\u001b[39m\n",
            "\u001b[32m\u001b[1m  No Changes\u001b[22m\u001b[39m to `~/.julia/environments/v1.10/Manifest.toml`\n",
            "\u001b[32m\u001b[1mPrecompiling\u001b[22m\u001b[39m project...\n",
            "\u001b[32m  ✓ \u001b[39m\u001b[90mAccessors → AccessorsUnitfulExt\u001b[39m\n",
            "  1 dependency successfully precompiled in 1 seconds. 229 already precompiled.\n"
          ]
        }
      ]
    },
    {
      "cell_type": "markdown",
      "source": [
        "# Run a Co-evolutionary simulation"
      ],
      "metadata": {
        "id": "3XNTYkONU-Em"
      }
    },
    {
      "cell_type": "code",
      "source": [
        "using Jevo\n",
        "using Logging\n",
        "using StableRNGs\n",
        "\n",
        "STATS_FILE = \"statistics.h5\"\n",
        "isfile(STATS_FILE) && rm(STATS_FILE)\n",
        "\n",
        "global_logger(JevoLogger())\n",
        "rng = StableRNG(1)\n",
        "\n",
        "k = 1\n",
        "n_dims = 2\n",
        "n_inds = 2\n",
        "n_species = 2\n",
        "n_gens = 10\n",
        "\n",
        "counters = default_counters()\n",
        "ng_gc = ng_genotype_creator = Creator(VectorGenotype, (n=n_dims,rng=rng))\n",
        "ng_developer = Creator(VectorPhenotype)\n",
        "\n",
        "comp_pop_creator = Creator(CompositePopulation, (\"species\", [(\"p$i\", n_inds, ng_gc, ng_developer) for i in 1:n_species], counters))\n",
        "env_creator = Creator(CompareOnOne)\n",
        "\n",
        "#\n",
        "state = State(\"numbers_game\", rng,\n",
        "    # State accepts a list of creators\n",
        "    [comp_pop_creator, env_creator],\n",
        "    # and a sequence of operators to apply to the state\n",
        "    [InitializeAllPopulations(),\n",
        "    InitializePhylogeny(),\n",
        "    AllVsAllMatchMaker(),\n",
        "    Performer(),\n",
        "    ScalarFitnessEvaluator(),\n",
        "    TruncationSelector(k),\n",
        "    CloneUniformReproducer(n_inds),\n",
        "    Mutator(),\n",
        "    UpdatePhylogeny(),\n",
        "    TrackPhylogeny(),\n",
        "    PurgePhylogeny(),\n",
        "    ClearInteractionsAndRecords(),\n",
        "    create_op(\"Reporter\",\n",
        "        retriever=Jevo.get_individuals,\n",
        "        operator=(s,individuals)-> foreach(i->println(i.genotype), individuals)\n",
        "    ),\n",
        "    Reporter(GenotypeSum, console=true)], counters=counters)\n",
        "\n",
        "run!(state, n_gens)\n"
      ],
      "metadata": {
        "colab": {
          "base_uri": "https://localhost:8080/"
        },
        "id": "fB9-NEjYIkeE",
        "outputId": "6bc6fe6a-e463-452b-802c-560542c79d75"
      },
      "execution_count": null,
      "outputs": [
        {
          "output_type": "stream",
          "name": "stdout",
          "text": [
            "VectorGenotype(Float32[0.26209486, 0.46431565])\n",
            "VectorGenotype(Float32[-0.580678, -0.90946543])\n",
            "VectorGenotype(Float32[0.6229845, 0.012773156])\n",
            "VectorGenotype(Float32[0.79820263, -1.1590782])\n",
            "gen=1 GenotypeSum: |-1.49, -0.122 ± 1.036, 0.726|, 4 samples\n",
            "VectorGenotype(Float32[0.26209486, 0.46431565])\n",
            "VectorGenotype(Float32[0.3217729, 0.65762794])\n",
            "VectorGenotype(Float32[0.6229845, 0.012773156])\n",
            "VectorGenotype(Float32[0.6152732, 0.3734604])\n",
            "gen=2 GenotypeSum: |0.636, 0.833 ± 0.179, 0.989|, 4 samples\n",
            "VectorGenotype(Float32[0.26209486, 0.46431565])\n",
            "VectorGenotype(Float32[-0.36359048, 1.8665471])\n",
            "VectorGenotype(Float32[0.6229845, 0.012773156])\n",
            "VectorGenotype(Float32[-0.7124732, -1.0165223])\n",
            "gen=3 GenotypeSum: |-1.729, 0.284 ± 1.397, 1.503|, 4 samples\n",
            "VectorGenotype(Float32[0.26209486, 0.46431565])\n",
            "VectorGenotype(Float32[0.3374526, 1.1012497])\n",
            "VectorGenotype(Float32[0.6229845, 0.012773156])\n",
            "VectorGenotype(Float32[-0.5705619, 0.39416242])\n",
            "gen=4 GenotypeSum: |-0.176, 0.656 ± 0.661, 1.439|, 4 samples\n",
            "VectorGenotype(Float32[0.26209486, 0.46431565])\n",
            "VectorGenotype(Float32[-2.669314, 0.14153183])\n",
            "VectorGenotype(Float32[0.6229845, 0.012773156])\n",
            "VectorGenotype(Float32[0.6565873, -0.7206052])\n",
            "gen=5 GenotypeSum: |-2.528, -0.307 ± 1.522, 0.726|, 4 samples\n",
            "VectorGenotype(Float32[0.26209486, 0.46431565])\n",
            "VectorGenotype(Float32[0.27911463, -0.826349])\n",
            "VectorGenotype(Float32[0.6229845, 0.012773156])\n",
            "VectorGenotype(Float32[0.81281143, 0.23676312])\n",
            "gen=6 GenotypeSum: |-0.547, 0.466 ± 0.699, 1.05|, 4 samples\n",
            "VectorGenotype(Float32[0.26209486, 0.46431565])\n",
            "VectorGenotype(Float32[-0.38180596, 0.35980678])\n",
            "VectorGenotype(Float32[0.6229845, 0.012773156])\n",
            "VectorGenotype(Float32[0.4911329, -1.1765964])\n",
            "gen=7 GenotypeSum: |-0.685, 0.164 ± 0.657, 0.726|, 4 samples\n",
            "VectorGenotype(Float32[0.26209486, 0.46431565])\n",
            "VectorGenotype(Float32[0.9114482, 0.2677528])\n",
            "VectorGenotype(Float32[0.6229845, 0.012773156])\n",
            "VectorGenotype(Float32[0.21370189, -0.31635195])\n",
            "gen=8 GenotypeSum: |-0.103, 0.61 ± 0.531, 1.179|, 4 samples\n",
            "VectorGenotype(Float32[0.9114482, 0.2677528])\n",
            "VectorGenotype(Float32[0.51198345, 0.575737])\n",
            "VectorGenotype(Float32[0.6229845, 0.012773156])\n",
            "VectorGenotype(Float32[0.86867386, 0.594956])\n",
            "gen=9 GenotypeSum: |0.636, 1.092 ± 0.343, 1.464|, 4 samples\n",
            "VectorGenotype(Float32[0.9114482, 0.2677528])\n",
            "VectorGenotype(Float32[1.4138683, -0.28944892])\n",
            "VectorGenotype(Float32[0.86867386, 0.594956])\n",
            "VectorGenotype(Float32[1.3194005, 0.69601864])\n",
            "gen=10 GenotypeSum: |1.124, 1.446 ± 0.408, 2.015|, 4 samples\n"
          ]
        }
      ]
    },
    {
      "cell_type": "markdown",
      "source": [
        "# Viewing the Phylogeny\n",
        "\n",
        "Jevo outputs phylogenies compliant with the [ALIFE Data Standards](https://github.com/alife-data-standards/alife-data-standards) phylogeny format. Each population outputs a separate phylogeny file. For our co-evolutionary setup above, we output two phylogenies:"
      ],
      "metadata": {
        "id": "hNiX7YIhRhsl"
      }
    },
    {
      "cell_type": "code",
      "source": [
        ";head p1-phylo.csv p2-phylo.csv"
      ],
      "metadata": {
        "colab": {
          "base_uri": "https://localhost:8080/"
        },
        "id": "syDHF9YFRM16",
        "outputId": "b077f665-1ef0-474a-a0cb-e1cb8704665c"
      },
      "execution_count": null,
      "outputs": [
        {
          "output_type": "stream",
          "name": "stdout",
          "text": [
            "==> p1-phylo.csv <==\n",
            "id, ancestor_list\n",
            "1,\n",
            "2,\n",
            "5, 1\n",
            "7, 1\n",
            "9, 1\n",
            "11, 1\n",
            "13, 1\n",
            "15, 1\n",
            "17, 1\n",
            "\n",
            "==> p2-phylo.csv <==\n",
            "id, ancestor_list\n",
            "3,\n",
            "4,\n",
            "6, 3\n",
            "8, 3\n",
            "10, 3\n",
            "12, 3\n",
            "14, 3\n",
            "16, 3\n",
            "18, 3\n"
          ]
        }
      ]
    },
    {
      "cell_type": "code",
      "source": [
        ";pip install alifedata-phyloinformatics-convert"
      ],
      "metadata": {
        "colab": {
          "base_uri": "https://localhost:8080/"
        },
        "collapsed": true,
        "id": "Ohjq_16BWblK",
        "outputId": "cf8eabe2-3777-4d82-bb3b-9780dac67190"
      },
      "execution_count": null,
      "outputs": [
        {
          "output_type": "stream",
          "name": "stdout",
          "text": [
            "Collecting alifedata-phyloinformatics-convert\n",
            "  Downloading alifedata_phyloinformatics_convert-0.16.2-py2.py3-none-any.whl (34 kB)\n",
            "Collecting anytree>=2.8.0 (from alifedata-phyloinformatics-convert)\n",
            "  Downloading anytree-2.12.1-py3-none-any.whl (44 kB)\n",
            "     ━━━━━━━━━━━━━━━━━━━━━━━━━━━━━━━━━━━━━━━━ 44.9/44.9 kB 802.2 kB/s eta 0:00:00\n",
            "Collecting biopython>=1.79 (from alifedata-phyloinformatics-convert)\n",
            "  Downloading biopython-1.84-cp310-cp310-manylinux_2_17_x86_64.manylinux2014_x86_64.whl (3.2 MB)\n",
            "     ━━━━━━━━━━━━━━━━━━━━━━━━━━━━━━━━━━━━━━━━ 3.2/3.2 MB 14.3 MB/s eta 0:00:00\n",
            "Requirement already satisfied: click>=7.0 in /usr/local/lib/python3.10/dist-packages (from alifedata-phyloinformatics-convert) (8.1.7)\n",
            "Collecting dendropy>=4.5.2 (from alifedata-phyloinformatics-convert)\n",
            "  Downloading DendroPy-5.0.1-py3-none-any.whl (459 kB)\n",
            "     ━━━━━━━━━━━━━━━━━━━━━━━━━━━━━━━━━━━━━━━━ 459.5/459.5 kB 35.3 MB/s eta 0:00:00\n",
            "Collecting Deprecated>=1.2.13 (from alifedata-phyloinformatics-convert)\n",
            "  Downloading Deprecated-1.2.14-py2.py3-none-any.whl (9.6 kB)\n",
            "Collecting ete3>=3.0.0 (from alifedata-phyloinformatics-convert)\n",
            "  Downloading ete3-3.1.3.tar.gz (4.8 MB)\n",
            "     ━━━━━━━━━━━━━━━━━━━━━━━━━━━━━━━━━━━━━━━━ 4.8/4.8 MB 50.5 MB/s eta 0:00:00\n",
            "  Preparing metadata (setup.py): started\n",
            "  Preparing metadata (setup.py): finished with status 'done'\n",
            "Collecting iterpop>=0.4.0 (from alifedata-phyloinformatics-convert)\n",
            "  Downloading iterpop-0.4.1-py2.py3-none-any.whl (4.2 kB)\n",
            "Collecting lyncs-utils>=0.3.2 (from alifedata-phyloinformatics-convert)\n",
            "  Downloading lyncs_utils-0.5.1.tar.gz (27 kB)\n",
            "  Installing build dependencies: started\n",
            "  Installing build dependencies: finished with status 'done'\n",
            "  Getting requirements to build wheel: started\n",
            "  Getting requirements to build wheel: finished with status 'done'\n",
            "  Preparing metadata (pyproject.toml): started\n",
            "  Preparing metadata (pyproject.toml): finished with status 'done'\n",
            "Collecting nanto>=0.1.1 (from alifedata-phyloinformatics-convert)\n",
            "  Downloading nanto-0.1.1-py2.py3-none-any.whl (4.4 kB)\n",
            "Requirement already satisfied: networkx>=2.5 in /usr/local/lib/python3.10/dist-packages (from alifedata-phyloinformatics-convert) (3.3)\n",
            "Requirement already satisfied: numpy>=1.21.5 in /usr/local/lib/python3.10/dist-packages (from alifedata-phyloinformatics-convert) (1.25.2)\n",
            "Collecting opytional>=0.1.0 (from alifedata-phyloinformatics-convert)\n",
            "  Downloading opytional-0.1.0-py2.py3-none-any.whl (5.8 kB)\n",
            "Requirement already satisfied: pandas>=1.1.0 in /usr/local/lib/python3.10/dist-packages (from alifedata-phyloinformatics-convert) (2.0.3)\n",
            "Collecting phylotrackpy>=0.1.16 (from alifedata-phyloinformatics-convert)\n",
            "  Downloading phylotrackpy-0.2.0-cp310-cp310-manylinux_2_27_x86_64.manylinux_2_28_x86_64.whl (245 kB)\n",
            "     ━━━━━━━━━━━━━━━━━━━━━━━━━━━━━━━━━━━━━━━━ 245.6/245.6 kB 25.7 MB/s eta 0:00:00\n",
            "Requirement already satisfied: sortedcontainers>=2.4.0 in /usr/local/lib/python3.10/dist-packages (from alifedata-phyloinformatics-convert) (2.4.0)\n",
            "Requirement already satisfied: typing-extensions>=4.7.1 in /usr/local/lib/python3.10/dist-packages (from alifedata-phyloinformatics-convert) (4.12.2)\n",
            "Collecting validators>=0.20.0 (from alifedata-phyloinformatics-convert)\n",
            "  Downloading validators-0.29.0-py3-none-any.whl (41 kB)\n",
            "     ━━━━━━━━━━━━━━━━━━━━━━━━━━━━━━━━━━━━━━━━ 41.4/41.4 kB 3.7 MB/s eta 0:00:00\n",
            "Requirement already satisfied: yarl>=1.9.3 in /usr/local/lib/python3.10/dist-packages (from alifedata-phyloinformatics-convert) (1.9.4)\n",
            "Requirement already satisfied: six in /usr/local/lib/python3.10/dist-packages (from anytree>=2.8.0->alifedata-phyloinformatics-convert) (1.16.0)\n",
            "Requirement already satisfied: setuptools in /usr/local/lib/python3.10/dist-packages (from dendropy>=4.5.2->alifedata-phyloinformatics-convert) (67.7.2)\n",
            "Requirement already satisfied: wrapt<2,>=1.10 in /usr/local/lib/python3.10/dist-packages (from Deprecated>=1.2.13->alifedata-phyloinformatics-convert) (1.14.1)\n",
            "Collecting dataclasses (from lyncs-utils>=0.3.2->alifedata-phyloinformatics-convert)\n",
            "  Downloading dataclasses-0.6-py3-none-any.whl (14 kB)\n",
            "Collecting lyncs-setuptools (from lyncs-utils>=0.3.2->alifedata-phyloinformatics-convert)\n",
            "  Using cached lyncs_setuptools-0.3.2-py3-none-any.whl\n",
            "Requirement already satisfied: python-dateutil>=2.8.2 in /usr/local/lib/python3.10/dist-packages (from pandas>=1.1.0->alifedata-phyloinformatics-convert) (2.8.2)\n",
            "Requirement already satisfied: pytz>=2020.1 in /usr/local/lib/python3.10/dist-packages (from pandas>=1.1.0->alifedata-phyloinformatics-convert) (2023.4)\n",
            "Requirement already satisfied: tzdata>=2022.1 in /usr/local/lib/python3.10/dist-packages (from pandas>=1.1.0->alifedata-phyloinformatics-convert) (2024.1)\n",
            "Requirement already satisfied: idna>=2.0 in /usr/local/lib/python3.10/dist-packages (from yarl>=1.9.3->alifedata-phyloinformatics-convert) (3.7)\n",
            "Requirement already satisfied: multidict>=4.0 in /usr/local/lib/python3.10/dist-packages (from yarl>=1.9.3->alifedata-phyloinformatics-convert) (6.0.5)\n",
            "Collecting gitpython (from lyncs-setuptools->lyncs-utils>=0.3.2->alifedata-phyloinformatics-convert)\n",
            "  Using cached GitPython-3.1.43-py3-none-any.whl (207 kB)\n",
            "Requirement already satisfied: pip in /usr/local/lib/python3.10/dist-packages (from lyncs-setuptools->lyncs-utils>=0.3.2->alifedata-phyloinformatics-convert) (23.1.2)\n",
            "Requirement already satisfied: packaging in /usr/local/lib/python3.10/dist-packages (from lyncs-setuptools->lyncs-utils>=0.3.2->alifedata-phyloinformatics-convert) (24.1)\n",
            "Collecting gitdb<5,>=4.0.1 (from gitpython->lyncs-setuptools->lyncs-utils>=0.3.2->alifedata-phyloinformatics-convert)\n",
            "  Using cached gitdb-4.0.11-py3-none-any.whl (62 kB)\n",
            "Collecting smmap<6,>=3.0.1 (from gitdb<5,>=4.0.1->gitpython->lyncs-setuptools->lyncs-utils>=0.3.2->alifedata-phyloinformatics-convert)\n",
            "  Using cached smmap-5.0.1-py3-none-any.whl (24 kB)\n",
            "Building wheels for collected packages: ete3, lyncs-utils\n",
            "  Building wheel for ete3 (setup.py): started\n",
            "  Building wheel for ete3 (setup.py): finished with status 'done'\n",
            "  Created wheel for ete3: filename=ete3-3.1.3-py3-none-any.whl size=2273786 sha256=f0e7e236aa08936840523baaf6a264032886b9710d6b5b38145beab3b1f70133\n",
            "  Stored in directory: /root/.cache/pip/wheels/a0/72/00/1982bd848e52b03079dbf800900120bc1c20e92e9a1216e525\n",
            "  Building wheel for lyncs-utils (pyproject.toml): started\n",
            "  Building wheel for lyncs-utils (pyproject.toml): finished with status 'done'\n",
            "  Created wheel for lyncs-utils: filename=lyncs_utils-0.5.1-py3-none-any.whl size=25338 sha256=971aed7cf157a6ef1f95e827ec99ac32518dd46e00b2237714a9a982ba1aa049\n",
            "  Stored in directory: /root/.cache/pip/wheels/ea/92/2d/ec3d31eb5cc14671c702f6d133e6a189003217de896396688a\n",
            "Successfully built ete3 lyncs-utils\n",
            "Installing collected packages: ete3, dataclasses, validators, smmap, phylotrackpy, opytional, nanto, iterpop, Deprecated, dendropy, biopython, anytree, gitdb, gitpython, lyncs-setuptools, lyncs-utils, alifedata-phyloinformatics-convert\n",
            "Successfully installed Deprecated-1.2.14 alifedata-phyloinformatics-convert-0.16.2 anytree-2.12.1 biopython-1.84 dataclasses-0.6 dendropy-5.0.1 ete3-3.1.3 gitdb-4.0.11 gitpython-3.1.43 iterpop-0.4.1 lyncs-setuptools-0.3.2 lyncs-utils-0.5.1 nanto-0.1.1 opytional-0.1.0 phylotrackpy-0.2.0 smmap-5.0.1 validators-0.29.0\n"
          ]
        }
      ]
    },
    {
      "cell_type": "code",
      "source": [
        "# Since we are in a julia interpreter, we need to write and execute python code from the command line\n",
        "open(\"convert.py\", \"w\") do f\n",
        "  println(f, \"\"\"\n",
        "  import io\n",
        "  import pathlib\n",
        "\n",
        "  import alifedata_phyloinformatics_convert as apc\n",
        "  import pandas\n",
        "\n",
        "  p1_phylo = pandas.read_csv(\"p1-phylo.csv\")\n",
        "  p2_phylo = pandas.read_csv(\"p2-phylo.csv\")\n",
        "\n",
        "  converter = apc.RosettaTree(p1_phylo)\n",
        "  converter = apc.RosettaTree(p2_phylo)\n",
        "  \"\"\")\n",
        "end"
      ],
      "metadata": {
        "id": "Hw527L9-ciPl"
      },
      "execution_count": null,
      "outputs": []
    },
    {
      "cell_type": "code",
      "source": [
        ";python convert.py"
      ],
      "metadata": {
        "colab": {
          "base_uri": "https://localhost:8080/"
        },
        "id": "GpNj1BzrWgVc",
        "outputId": "8ae951e4-a8ec-4cb7-b4d8-e73a7a9eee32"
      },
      "execution_count": null,
      "outputs": [
        {
          "output_type": "stream",
          "name": "stderr",
          "text": [
            "Traceback (most recent call last):\n",
            "  File \"/content/convert.py\", line 10, in <module>\n",
            "    converter = apc.RosettaTree(p1_phylo)\n",
            "  File \"/usr/local/lib/python3.10/dist-packages/alifedata_phyloinformatics_convert/RosettaTree.py\", line 121, in __init__\n",
            "    raise ValueError(\n",
            "ValueError: Unsupported tree format tree=    id   ancestor_list\n",
            "0    1             NaN\n",
            "1    2             NaN\n",
            "2    5             1.0\n",
            "3    7             1.0\n",
            "4    9             1.0\n",
            "5   11             1.0\n",
            "6   13             1.0\n",
            "7   15             1.0\n",
            "8   17             1.0\n",
            "9   19             1.0\n",
            "10  21            19.0\n",
            "11  23            19.0 of type <class 'pandas.core.frame.DataFrame'>\n"
          ]
        }
      ]
    },
    {
      "cell_type": "code",
      "source": [],
      "metadata": {
        "id": "1iMtdZ2BphXX"
      },
      "execution_count": null,
      "outputs": []
    }
  ]
}