{
  "cells": [
    {
      "cell_type": "markdown",
      "metadata": {
        "id": "kQUYwptKUB8m"
      },
      "source": [
        "# <img src=\"https://github.com/JuliaLang/julia-logo-graphics/raw/master/images/julia-logo-color.png\" height=\"40\" /> _ALIFE Phylogeny Tutorial Notebook_\n",
        "\n",
        "[Link to original julia notebook template](https://github.com/ageron/julia_notebooks/blob/main/Julia_Colab_Notebook_Template.ipynb)\n",
        "\n",
        "This notebook contains a simple evolving system with synchronous generations, which is typical for most evolutionary computing systems. That is, each generation, a population of candidate solutions are evaluated and selected to reproduce. This process repeats for a desired number of generations.\n",
        "\n",
        "In this example, we implement phylogeny tracking for a continuous, 1-dimensional version of [the numbers game](http://www.demo.cs.brandeis.edu/pr/number_games/).\n",
        "\n",
        "Throughout the code, we have left comments where phylogeny tracking code should be added. If you're working on this during the tutorial at ALife 2024, feel free to ask for our help! We're happy to walk you through anything!\n",
        "\n"
      ]
    },
    {
      "cell_type": "markdown",
      "metadata": {
        "id": "tQ1r1bbb0yBv"
      },
      "source": [
        "# Install Julia\n",
        "1. Work on a copy of this notebook: _File_ > _Save a copy in Drive_ (you will need a Google account). Alternatively, you can download the notebook using _File_ > _Download .ipynb_, then upload it to [Colab](https://colab.research.google.com/).\n",
        "2. Execute the following cell (click on it and press Ctrl+Enter) to install Julia, IJulia and other packages (if needed, update `JULIA_VERSION` and the other parameters). This takes a couple of minutes.\n",
        "3. Reload this page (press Ctrl+R, or ⌘+R, or the F5 key) and continue to the next section.\n",
        "\n",
        "_Notes_:\n",
        "* If your Colab Runtime gets reset (e.g., due to inactivity), repeat steps 2, 3 and 4.\n",
        "* After installation, if you want to change the Julia version or activate/deactivate the GPU, you will need to reset the Runtime: _Runtime_ > _Factory reset runtime_ and repeat steps 3 and 4."
      ]
    },
    {
      "cell_type": "code",
      "execution_count": null,
      "metadata": {
        "id": "GIeFXS0F0zww"
      },
      "outputs": [],
      "source": [
        "%%shell\n",
        "set -e\n",
        "\n",
        "#---------------------------------------------------#\n",
        "JULIA_VERSION=\"1.10.4\" # any version ≥ 0.7.0\n",
        "JULIA_PACKAGES=\"IJulia\"\n",
        "JULIA_PACKAGES_IF_GPU=\"CUDA\" # or CuArrays for older Julia versions\n",
        "JULIA_NUM_THREADS=8\n",
        "#---------------------------------------------------#\n",
        "\n",
        "if [ -z `which julia` ]; then\n",
        "  # Install Julia\n",
        "  JULIA_VER=`cut -d '.' -f -2 <<< \"$JULIA_VERSION\"`\n",
        "  echo \"Installing Julia $JULIA_VERSION on the current Colab Runtime...\"\n",
        "  BASE_URL=\"https://julialang-s3.julialang.org/bin/linux/x64\"\n",
        "  URL=\"$BASE_URL/$JULIA_VER/julia-$JULIA_VERSION-linux-x86_64.tar.gz\"\n",
        "  wget -nv $URL -O /tmp/julia.tar.gz # -nv means \"not verbose\"\n",
        "  tar -x -f /tmp/julia.tar.gz -C /usr/local --strip-components 1\n",
        "  rm /tmp/julia.tar.gz\n",
        "\n",
        "  # Install Packages\n",
        "  nvidia-smi -L &> /dev/null && export GPU=1 || export GPU=0\n",
        "  if [ $GPU -eq 1 ]; then\n",
        "    JULIA_PACKAGES=\"$JULIA_PACKAGES $JULIA_PACKAGES_IF_GPU\"\n",
        "  fi\n",
        "  for PKG in `echo $JULIA_PACKAGES`; do\n",
        "    echo \"Installing Julia package $PKG...\"\n",
        "    julia -e 'using Pkg; pkg\"add '$PKG'; precompile;\"' &> /dev/null\n",
        "  done\n",
        "\n",
        "  # Install kernel and rename it to \"julia\"\n",
        "  echo \"Installing IJulia kernel...\"\n",
        "  julia -e 'using IJulia; IJulia.installkernel(\"julia\", env=Dict(\n",
        "      \"JULIA_NUM_THREADS\"=>\"'\"$JULIA_NUM_THREADS\"'\"))'\n",
        "  KERNEL_DIR=`julia -e \"using IJulia; print(IJulia.kerneldir())\"`\n",
        "  KERNEL_NAME=`ls -d \"$KERNEL_DIR\"/julia*`\n",
        "  mv -f $KERNEL_NAME \"$KERNEL_DIR\"/julia\n",
        "\n",
        "  echo ''\n",
        "  echo \"Successfully installed `julia -v`!\"\n",
        "  echo \"Please reload this page (press Ctrl+R, ⌘+R, or the F5 key) then\"\n",
        "  echo \"jump to the 'Checking the Installation' section.\"\n",
        "fi"
      ]
    },
    {
      "cell_type": "markdown",
      "metadata": {
        "id": "-OS3Ac017T1i"
      },
      "source": [
        "## Checking the Installation\n",
        "The `versioninfo()` function should print your Julia version and some other info about the system. If you get an error, refresh/reload this page."
      ]
    },
    {
      "cell_type": "code",
      "execution_count": null,
      "metadata": {
        "id": "EEzvvzCl1i0F"
      },
      "outputs": [],
      "source": [
        "versioninfo()"
      ]
    },
    {
      "cell_type": "markdown",
      "metadata": {
        "id": "Q3okcicGI9Q5"
      },
      "source": [
        "If the above cell gives you an error, refresh this page.\n",
        "\n",
        "# Install Jevo.jl and Dependencies\n",
        "\n",
        "Run the following cell to install the `phylo-tutorial` branch of [Jevo.jl](https://www.github.com/jarbus/Jevo.jl) and its dependencies. This branch has all of the neuro-evolution code stripped out to install faster.\n",
        "\n",
        "[Jevo.jl](https://www.github.com/jarbus/Jevo.jl) is currently in alpha, development docs can be found [here](https://jarbus.github.io/Jevo.jl/dev). Jevo is only required for the final section of this notebook.\n",
        "\n",
        "This cell should take ~10 minutes on Google Collab. In the meantime, you can move on to the coding challenges below!"
      ]
    },
    {
      "cell_type": "code",
      "execution_count": null,
      "metadata": {
        "collapsed": true,
        "id": "i5VKx1VJ3J67"
      },
      "outputs": [],
      "source": [
        "]add StatsBase https://github.com/jarbus/XPlot.jl.git https://github.com/jarbus/PhylogeneticTrees.jl.git https://github.com/jarbus/Jevo.jl.git#phylo-tutorial StableRNGs Logging"
      ]
    },
    {
      "cell_type": "markdown",
      "metadata": {
        "id": "sWPY2JTuX__H"
      },
      "source": [
        "# The world's simplest Co-Evolutionary Algorithm\n",
        "\n",
        "We will be implementing a trivial, one-dimensional version of the Number's Game from scratch, and then demonstrating a completed example using the Jevo.jl framework. You can implement phylogeny tracking using [PhylogeneticTrees.jl](https://github.com/jarbus/PhylogeneticTrees.jl/blob/master/src/tree.jl). There is no documentation yet for this package, so we provide the API where relevant, which is straightforward to use."
      ]
    },
    {
      "cell_type": "code",
      "execution_count": null,
      "metadata": {
        "id": "UcYZNg2_ZLTo"
      },
      "outputs": [],
      "source": [
        "using StatsBase\n",
        "\n",
        "mutable struct Organism\n",
        "  id::Int\n",
        "  genome::Float64  # Genome is a single float, which co-evolves with other floats to rise in value\n",
        "  fitness::Float64\n",
        "end\n",
        "Organism(id::Int, genome::Float64) = Organism(id, genome, 0)\n",
        "\n",
        "\n",
        "function mutate_genome(genome::Float64; mr::Float64)\n",
        "  genome + (rand() * mr)\n",
        "end\n",
        "\n",
        "function evaluate_fitness!(pop_a::Vector{Organism}, pop_b::Vector{Organism})\n",
        "  for org_a in pop_a, org_b in pop_b\n",
        "    org_a.fitness += org_a.genome > org_b.genome\n",
        "    org_b.fitness += org_a.genome < org_b.genome\n",
        "  end\n",
        "end\n",
        "\n",
        "function fitness_proportional_selection(n_parents::Int, pop::Vector{Organism})\n",
        "  weights = [org.fitness for org in pop]\n",
        "  [sample(pop, Weights(weights)) for _ in 1:n_parents]\n",
        "end"
      ]
    },
    {
      "cell_type": "code",
      "execution_count": null,
      "metadata": {
        "id": "VuNWv-VvdG9f"
      },
      "outputs": [],
      "source": [
        "using PhylogeneticTrees\n",
        "# Create two co-evolving populations\n",
        "# Yes, this code is *horribly* inefficient\n",
        "# We write it this way for clarity.\n",
        "n_pop = 100\n",
        "n_gens = 100\n",
        "mr = 0.1\n",
        "\n",
        "org_id = 1\n",
        "pop_a, pop_b = Organism[], Organism[]\n",
        "for _ in 1:n_pop\n",
        "  push!(pop_a, Organism(org_id, rand()))\n",
        "  push!(pop_b, Organism(org_id + 1, rand()))\n",
        "  org_id += 2\n",
        "end\n",
        "\n",
        "\"\"\"\n",
        "TUTORIAL TASK: Initialization\n",
        "\n",
        "Create a new phylogenetic tree for each population. The relevant constructor is:\n",
        "\n",
        "  function PhylogeneticTrees(genesis_pop_ids::Vector{Int})\n",
        "\"\"\"\n",
        "\n",
        "\n",
        "for gen in 1:n_gens\n",
        "  evaluate_fitness!(pop_a, pop_b)\n",
        "  parents_a = fitness_proportional_selection(n_pop, pop_a)\n",
        "  parents_b = fitness_proportional_selection(n_pop, pop_b)\n",
        "  next_pop_a, next_pop_b = Organism[], Organism[]\n",
        "\n",
        "  # Create next generation\n",
        "  for parent_a in parents_a\n",
        "    new_child_a = Organism(org_id, mutate_genome(parent_a.genome, mr=mr))\n",
        "    \"\"\"\n",
        "    TUTORIAL TASK: Update phylogeny for population a. Relevant function:\n",
        "\n",
        "      function add_child!(tree::PhylogeneticTree, parent_id::Int, child_id::Int)\n",
        "    \"\"\"\n",
        "    push!(next_pop_a, new_child_a)\n",
        "    org_id += 1\n",
        "  end\n",
        "\n",
        "  for parent_b in parents_b\n",
        "    new_child_b = Organism(org_id, mutate_genome(parent_b.genome, mr=mr))\n",
        "    \"\"\"\n",
        "    TUTORIAL TASK: Update phylogeny for population b. Relevant function:\n",
        "\n",
        "      function add_child!(tree::PhylogeneticTree, parent_id::Int, child_id::Int)\n",
        "    \"\"\"\n",
        "    push!(next_pop_b, new_child_b)\n",
        "    org_id += 1\n",
        "  end\n",
        "  pop_a = next_pop_a\n",
        "  pop_b = next_pop_b\n",
        "  @assert length(pop_a) == n_pop == length(pop_b)\n",
        "\n",
        "\n",
        "  \"\"\"\"\n",
        "  TUTORIAL TASK: Prune phylogeny of dead branches, saving memory. Relevant function:\n",
        "\n",
        "    function purge_unreachable_nodes!(tree::PhylogeneticTree, ids::Set{Int})\n",
        "\n",
        "  # Arguments:\n",
        "    `ids` refers to a set of existing individual ids in a population to keep the lineages for. Any nodes\n",
        "    in the tree which are not ancestors of any individual in this set will be deleted.\n",
        "  \"\"\"\n",
        "\n",
        "\n",
        "  \"\"\"\n",
        "  OTHER (VERY OPTIONAL) TUTORIAL TASK: Compute pairwise distances between nodes in tree. Relevant function\n",
        "\n",
        "    function compute_pairwise_distances!(tree::PhylogeneticTree, ids::Set{Int};)\n",
        "\n",
        "    To view information about the returned types, see the function docstring: (MRCA = Most Recent Common Ancestor)\n",
        "\n",
        "    https://github.com/jarbus/PhylogeneticTrees.jl/blob/4179f72050e4c4a3bb99da71a1d727f6ddd6074d/src/tree.jl#L92\n",
        "  \"\"\"\n",
        "\n",
        "  if gen % 10 == 0\n",
        "    pop_a_mean = round(mean(o.genome for o in pop_a), digits=2)\n",
        "    pop_b_mean = round(mean(o.genome for o in pop_b), digits=2)\n",
        "    println(\"gen $gen: average genome in pop a = $pop_a_mean\")\n",
        "    println(\"gen $gen: average genome in pop b = $pop_b_mean\")\n",
        "  end\n",
        "end"
      ]
    },
    {
      "cell_type": "code",
      "execution_count": null,
      "metadata": {
        "id": "YeezM351t-Nd"
      },
      "outputs": [],
      "source": [
        "function write_phylogeny(filename::String, tree::PhylogeneticTree)\n",
        "  open(filename, \"w\") do io\n",
        "    println(io, \"id,ancestor_list\")\n",
        "    for id in keys(tree.tree) |> collect |> sort\n",
        "      node = tree.tree[id]\n",
        "      # for visualization purposes, we put all genesis organisms under a dummy parent\n",
        "      if isnothing(node.parent)\n",
        "        println(io, \"$id,[none]\")\n",
        "      else\n",
        "        println(io, \"$id,[$(node.parent.id)]\")\n",
        "      end\n",
        "    end\n",
        "  end\n",
        "end\n",
        "\n",
        "\"\"\"\n",
        "TUTORIAL TASK: Write phylogeny of each population to disk\n",
        "\n",
        "  We implement the above function to write a phylogeny to disk. Use it to log the phylogenies for your populations!\n",
        "\n",
        "  Here, your phylogenies files should be should be called `pop_a_custom.csv` and `pop_b_custom.csv`\n",
        "\"\"\""
      ]
    },
    {
      "cell_type": "markdown",
      "source": [
        "# Using Jevo\n",
        "\n",
        "Jevo implements phylogeny tracking with PhylogeneticTrees via the [Operator](https://jarbus.net/Jevo.jl/dev/api/#Jevo.Operator) interface. In the cell below, we provide a completed example of using phylogeny tracking in a simple Jevo pipeline."
      ],
      "metadata": {
        "id": "4p3cXRAdENzu"
      }
    },
    {
      "cell_type": "code",
      "execution_count": null,
      "metadata": {
        "id": "fB9-NEjYIkeE"
      },
      "outputs": [],
      "source": [
        "println(\"Compiling Jevo...\")\n",
        "using Jevo\n",
        "using Logging\n",
        "using StableRNGs\n",
        "\n",
        "STATS_FILE = \"statistics.h5\"\n",
        "isfile(STATS_FILE) && rm(STATS_FILE)\n",
        "\n",
        "global_logger(JevoLogger())\n",
        "rng = StableRNG(1)\n",
        "\n",
        "k = 10\n",
        "n_dims = 2\n",
        "n_inds = 100\n",
        "n_species = 2\n",
        "n_gens = 100\n",
        "\n",
        "counters = default_counters()\n",
        "ng_gc = ng_genotype_creator = Creator(VectorGenotype, (n=n_dims,rng=rng))\n",
        "ng_developer = Creator(VectorPhenotype)\n",
        "\n",
        "# Create Composite population with two subpopulations, p1 and p2\n",
        "comp_pop_creator = Creator(CompositePopulation, (\"species\", [(\"p$i\", n_inds, ng_gc, ng_developer) for i in 1:n_species], counters))\n",
        "env_creator = Creator(CompareOnOne)\n",
        "\n",
        "#\n",
        "state = State(\"numbers_game\", rng,\n",
        "    # State accepts a list of creators\n",
        "    [comp_pop_creator, env_creator],\n",
        "    # and a sequence of operators to apply to the state\n",
        "    [InitializeAllPopulations(),\n",
        "    InitializePhylogeny(),\n",
        "    AllVsAllMatchMaker(),\n",
        "    Performer(),\n",
        "    ScalarFitnessEvaluator(),\n",
        "    TruncationSelector(k),\n",
        "    CloneUniformReproducer(n_inds),\n",
        "    Mutator(),\n",
        "    UpdatePhylogeny(),\n",
        "    TrackPhylogeny(),  # Adds phylogeny updates to disk\n",
        "    PurgePhylogeny(),  # removes individuals with no surviving descendants\n",
        "    ClearInteractionsAndRecords(),\n",
        "    Reporter(GenotypeSum, console=true)], counters=counters)\n",
        "\n",
        "println(\"running\")\n",
        "run!(state, n_gens)\n"
      ]
    },
    {
      "cell_type": "markdown",
      "metadata": {
        "id": "hNiX7YIhRhsl"
      },
      "source": [
        "# Viewing the Phylogeny\n",
        "\n",
        "Jevo outputs phylogenies compliant with the [ALIFE Data Standards](https://github.com/alife-data-standards/alife-data-standards) phylogeny format. Each population outputs a separate phylogeny file. For each of our co-evolutionary setups above, we output two phylogenies. For the custom setup, we output files `pop_a_custom.csv` and `pop_b_custom.csv`. For the Jevo setup, we output files\n",
        "`p1-phylo.csv` and `p2-phylo`.csv"
      ]
    },
    {
      "cell_type": "markdown",
      "metadata": {
        "id": "sq2K4Fv7xmqv"
      },
      "source": [
        "Here, we need to convert from the [ALIFE Data Standards format](https://alife-data-standards.github.io/alife-data-standards/) to the newick file format, which is compatible with [IcyTree](https://icytree.org/)"
      ]
    },
    {
      "cell_type": "code",
      "execution_count": null,
      "metadata": {
        "collapsed": true,
        "id": "Ohjq_16BWblK"
      },
      "outputs": [],
      "source": [
        ";pip install alifedata-phyloinformatics-convert joinem"
      ]
    },
    {
      "cell_type": "code",
      "execution_count": null,
      "metadata": {
        "id": "8Zav6-5KxEPk"
      },
      "outputs": [],
      "source": [
        "# Don't worry about the details of these cells We need to execute complex bash commands like this because\n",
        "# this notebook uses a julia runtime and doesn't like special symbols.\n",
        "open(\"convert.sh\", \"w\") do io\n",
        "println(io, \"\"\"\n",
        "#!/bin/bash\n",
        "\n",
        "echo pop_a_custom.csv | python3 -m joinem pop_a_custom_aliased.csv --with-column \"pl.col('id').alias('taxon_label')\"\n",
        "alifedata-phyloinformatics-convert fromalifedata --input-file pop_a_custom_aliased.csv --output-schema newick --output-file pop_a_custom_aliased.newick\n",
        "\n",
        "echo pop_b_custom.csv | python3 -m joinem pop_b_custom_aliased.csv --with-column \"pl.col('id').alias('taxon_label')\"\n",
        "alifedata-phyloinformatics-convert fromalifedata --input-file pop_b_custom_aliased.csv --output-schema newick --output-file pop_b_custom_aliased.newick\n",
        "\n",
        "echo p1-phylo.csv | python3 -m joinem p1-phylo-aliased.csv --with-column \"pl.col('id').alias('taxon_label')\"\n",
        "alifedata-phyloinformatics-convert fromalifedata --input-file p1-phylo-aliased.csv --output-schema newick --output-file p1-phylo-aliased.newick\n",
        "\n",
        "echo p2-phylo.csv | python3 -m joinem p2-phylo-aliased.csv --with-column \"pl.col('id').alias('taxon_label')\"\n",
        "alifedata-phyloinformatics-convert fromalifedata --input-file p2-phylo-aliased.csv --output-schema newick --output-file p2-phylo-aliased.newick\n",
        "\n",
        "rm pop_a_custom_aliased.csv pop_b_custom_aliased.csv p1-phylo-aliased.csv p2-phylo-aliased.csv\n",
        "\"\"\")\n",
        "end"
      ]
    },
    {
      "cell_type": "code",
      "execution_count": null,
      "metadata": {
        "id": "Hw527L9-ciPl"
      },
      "outputs": [],
      "source": [
        ";bash convert.sh"
      ]
    },
    {
      "cell_type": "markdown",
      "metadata": {
        "id": "SR-1lr7F4oKm"
      },
      "source": [
        "Convert your phylogenies to .newick files and upload them to [icytree](https://icytree.org) to view them!"
      ]
    }
  ],
  "metadata": {
    "colab": {
      "provenance": []
    },
    "gpuClass": "standard",
    "kernelspec": {
      "display_name": "Julia",
      "language": "julia",
      "name": "julia"
    },
    "language_info": {
      "file_extension": ".jl",
      "mimetype": "application/julia",
      "name": "julia"
    }
  },
  "nbformat": 4,
  "nbformat_minor": 0
}